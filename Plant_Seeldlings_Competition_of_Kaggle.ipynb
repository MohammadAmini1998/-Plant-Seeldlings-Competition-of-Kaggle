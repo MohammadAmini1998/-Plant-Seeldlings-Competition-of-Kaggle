{
  "nbformat": 4,
  "nbformat_minor": 0,
  "metadata": {
    "colab": {
      "name": " Plant Seeldlings Competition of Kaggle.ipynb",
      "provenance": [],
      "collapsed_sections": []
    },
    "kernelspec": {
      "name": "python3",
      "display_name": "Python 3"
    },
    "language_info": {
      "name": "python"
    },
    "accelerator": "GPU",
    "widgets": {
      "application/vnd.jupyter.widget-state+json": {
        "0a25625ed9904c92ab2693a7ea45adba": {
          "model_module": "@jupyter-widgets/controls",
          "model_name": "HBoxModel",
          "model_module_version": "1.5.0",
          "state": {
            "_dom_classes": [],
            "_model_module": "@jupyter-widgets/controls",
            "_model_module_version": "1.5.0",
            "_model_name": "HBoxModel",
            "_view_count": null,
            "_view_module": "@jupyter-widgets/controls",
            "_view_module_version": "1.5.0",
            "_view_name": "HBoxView",
            "box_style": "",
            "children": [
              "IPY_MODEL_711301e8446c41f58f65c8a66cfe28e9",
              "IPY_MODEL_0cb9629cd88f431c9352a990adb12674",
              "IPY_MODEL_a1569791072f4c4287396a03e2931be6"
            ],
            "layout": "IPY_MODEL_d6e671af74da44e3acbaf5dc784f440e"
          }
        },
        "711301e8446c41f58f65c8a66cfe28e9": {
          "model_module": "@jupyter-widgets/controls",
          "model_name": "HTMLModel",
          "model_module_version": "1.5.0",
          "state": {
            "_dom_classes": [],
            "_model_module": "@jupyter-widgets/controls",
            "_model_module_version": "1.5.0",
            "_model_name": "HTMLModel",
            "_view_count": null,
            "_view_module": "@jupyter-widgets/controls",
            "_view_module_version": "1.5.0",
            "_view_name": "HTMLView",
            "description": "",
            "description_tooltip": null,
            "layout": "IPY_MODEL_d6fff48c7ef94ffcbc41af875f5a926c",
            "placeholder": "​",
            "style": "IPY_MODEL_43d105b3f0ad422b89840f1344d4fff1",
            "value": "100%"
          }
        },
        "0cb9629cd88f431c9352a990adb12674": {
          "model_module": "@jupyter-widgets/controls",
          "model_name": "FloatProgressModel",
          "model_module_version": "1.5.0",
          "state": {
            "_dom_classes": [],
            "_model_module": "@jupyter-widgets/controls",
            "_model_module_version": "1.5.0",
            "_model_name": "FloatProgressModel",
            "_view_count": null,
            "_view_module": "@jupyter-widgets/controls",
            "_view_module_version": "1.5.0",
            "_view_name": "ProgressView",
            "bar_style": "success",
            "description": "",
            "description_tooltip": null,
            "layout": "IPY_MODEL_0df77ac494fa4e40872aab2cbacf15cd",
            "max": 553433881,
            "min": 0,
            "orientation": "horizontal",
            "style": "IPY_MODEL_28b69c7e4a0245fc919a62feb3b45724",
            "value": 553433881
          }
        },
        "a1569791072f4c4287396a03e2931be6": {
          "model_module": "@jupyter-widgets/controls",
          "model_name": "HTMLModel",
          "model_module_version": "1.5.0",
          "state": {
            "_dom_classes": [],
            "_model_module": "@jupyter-widgets/controls",
            "_model_module_version": "1.5.0",
            "_model_name": "HTMLModel",
            "_view_count": null,
            "_view_module": "@jupyter-widgets/controls",
            "_view_module_version": "1.5.0",
            "_view_name": "HTMLView",
            "description": "",
            "description_tooltip": null,
            "layout": "IPY_MODEL_58596c2847a648658d8ec70f15d2f936",
            "placeholder": "​",
            "style": "IPY_MODEL_228aacb8abf74b3fb11f369fbc88ef65",
            "value": " 528M/528M [00:03&lt;00:00, 217MB/s]"
          }
        },
        "d6e671af74da44e3acbaf5dc784f440e": {
          "model_module": "@jupyter-widgets/base",
          "model_name": "LayoutModel",
          "model_module_version": "1.2.0",
          "state": {
            "_model_module": "@jupyter-widgets/base",
            "_model_module_version": "1.2.0",
            "_model_name": "LayoutModel",
            "_view_count": null,
            "_view_module": "@jupyter-widgets/base",
            "_view_module_version": "1.2.0",
            "_view_name": "LayoutView",
            "align_content": null,
            "align_items": null,
            "align_self": null,
            "border": null,
            "bottom": null,
            "display": null,
            "flex": null,
            "flex_flow": null,
            "grid_area": null,
            "grid_auto_columns": null,
            "grid_auto_flow": null,
            "grid_auto_rows": null,
            "grid_column": null,
            "grid_gap": null,
            "grid_row": null,
            "grid_template_areas": null,
            "grid_template_columns": null,
            "grid_template_rows": null,
            "height": null,
            "justify_content": null,
            "justify_items": null,
            "left": null,
            "margin": null,
            "max_height": null,
            "max_width": null,
            "min_height": null,
            "min_width": null,
            "object_fit": null,
            "object_position": null,
            "order": null,
            "overflow": null,
            "overflow_x": null,
            "overflow_y": null,
            "padding": null,
            "right": null,
            "top": null,
            "visibility": null,
            "width": null
          }
        },
        "d6fff48c7ef94ffcbc41af875f5a926c": {
          "model_module": "@jupyter-widgets/base",
          "model_name": "LayoutModel",
          "model_module_version": "1.2.0",
          "state": {
            "_model_module": "@jupyter-widgets/base",
            "_model_module_version": "1.2.0",
            "_model_name": "LayoutModel",
            "_view_count": null,
            "_view_module": "@jupyter-widgets/base",
            "_view_module_version": "1.2.0",
            "_view_name": "LayoutView",
            "align_content": null,
            "align_items": null,
            "align_self": null,
            "border": null,
            "bottom": null,
            "display": null,
            "flex": null,
            "flex_flow": null,
            "grid_area": null,
            "grid_auto_columns": null,
            "grid_auto_flow": null,
            "grid_auto_rows": null,
            "grid_column": null,
            "grid_gap": null,
            "grid_row": null,
            "grid_template_areas": null,
            "grid_template_columns": null,
            "grid_template_rows": null,
            "height": null,
            "justify_content": null,
            "justify_items": null,
            "left": null,
            "margin": null,
            "max_height": null,
            "max_width": null,
            "min_height": null,
            "min_width": null,
            "object_fit": null,
            "object_position": null,
            "order": null,
            "overflow": null,
            "overflow_x": null,
            "overflow_y": null,
            "padding": null,
            "right": null,
            "top": null,
            "visibility": null,
            "width": null
          }
        },
        "43d105b3f0ad422b89840f1344d4fff1": {
          "model_module": "@jupyter-widgets/controls",
          "model_name": "DescriptionStyleModel",
          "model_module_version": "1.5.0",
          "state": {
            "_model_module": "@jupyter-widgets/controls",
            "_model_module_version": "1.5.0",
            "_model_name": "DescriptionStyleModel",
            "_view_count": null,
            "_view_module": "@jupyter-widgets/base",
            "_view_module_version": "1.2.0",
            "_view_name": "StyleView",
            "description_width": ""
          }
        },
        "0df77ac494fa4e40872aab2cbacf15cd": {
          "model_module": "@jupyter-widgets/base",
          "model_name": "LayoutModel",
          "model_module_version": "1.2.0",
          "state": {
            "_model_module": "@jupyter-widgets/base",
            "_model_module_version": "1.2.0",
            "_model_name": "LayoutModel",
            "_view_count": null,
            "_view_module": "@jupyter-widgets/base",
            "_view_module_version": "1.2.0",
            "_view_name": "LayoutView",
            "align_content": null,
            "align_items": null,
            "align_self": null,
            "border": null,
            "bottom": null,
            "display": null,
            "flex": null,
            "flex_flow": null,
            "grid_area": null,
            "grid_auto_columns": null,
            "grid_auto_flow": null,
            "grid_auto_rows": null,
            "grid_column": null,
            "grid_gap": null,
            "grid_row": null,
            "grid_template_areas": null,
            "grid_template_columns": null,
            "grid_template_rows": null,
            "height": null,
            "justify_content": null,
            "justify_items": null,
            "left": null,
            "margin": null,
            "max_height": null,
            "max_width": null,
            "min_height": null,
            "min_width": null,
            "object_fit": null,
            "object_position": null,
            "order": null,
            "overflow": null,
            "overflow_x": null,
            "overflow_y": null,
            "padding": null,
            "right": null,
            "top": null,
            "visibility": null,
            "width": null
          }
        },
        "28b69c7e4a0245fc919a62feb3b45724": {
          "model_module": "@jupyter-widgets/controls",
          "model_name": "ProgressStyleModel",
          "model_module_version": "1.5.0",
          "state": {
            "_model_module": "@jupyter-widgets/controls",
            "_model_module_version": "1.5.0",
            "_model_name": "ProgressStyleModel",
            "_view_count": null,
            "_view_module": "@jupyter-widgets/base",
            "_view_module_version": "1.2.0",
            "_view_name": "StyleView",
            "bar_color": null,
            "description_width": ""
          }
        },
        "58596c2847a648658d8ec70f15d2f936": {
          "model_module": "@jupyter-widgets/base",
          "model_name": "LayoutModel",
          "model_module_version": "1.2.0",
          "state": {
            "_model_module": "@jupyter-widgets/base",
            "_model_module_version": "1.2.0",
            "_model_name": "LayoutModel",
            "_view_count": null,
            "_view_module": "@jupyter-widgets/base",
            "_view_module_version": "1.2.0",
            "_view_name": "LayoutView",
            "align_content": null,
            "align_items": null,
            "align_self": null,
            "border": null,
            "bottom": null,
            "display": null,
            "flex": null,
            "flex_flow": null,
            "grid_area": null,
            "grid_auto_columns": null,
            "grid_auto_flow": null,
            "grid_auto_rows": null,
            "grid_column": null,
            "grid_gap": null,
            "grid_row": null,
            "grid_template_areas": null,
            "grid_template_columns": null,
            "grid_template_rows": null,
            "height": null,
            "justify_content": null,
            "justify_items": null,
            "left": null,
            "margin": null,
            "max_height": null,
            "max_width": null,
            "min_height": null,
            "min_width": null,
            "object_fit": null,
            "object_position": null,
            "order": null,
            "overflow": null,
            "overflow_x": null,
            "overflow_y": null,
            "padding": null,
            "right": null,
            "top": null,
            "visibility": null,
            "width": null
          }
        },
        "228aacb8abf74b3fb11f369fbc88ef65": {
          "model_module": "@jupyter-widgets/controls",
          "model_name": "DescriptionStyleModel",
          "model_module_version": "1.5.0",
          "state": {
            "_model_module": "@jupyter-widgets/controls",
            "_model_module_version": "1.5.0",
            "_model_name": "DescriptionStyleModel",
            "_view_count": null,
            "_view_module": "@jupyter-widgets/base",
            "_view_module_version": "1.2.0",
            "_view_name": "StyleView",
            "description_width": ""
          }
        }
      }
    }
  },
  "cells": [
    {
      "cell_type": "code",
      "execution_count": 1,
      "metadata": {
        "id": "-UskWUThoYw8"
      },
      "outputs": [],
      "source": [
        " !pip install -q kaggle"
      ]
    },
    {
      "cell_type": "code",
      "source": [
        "!mkdir ~/.kaggle "
      ],
      "metadata": {
        "id": "fBdnklobqeyi"
      },
      "execution_count": 2,
      "outputs": []
    },
    {
      "cell_type": "code",
      "source": [
        "! cp kaggle.json ~/.kaggle/"
      ],
      "metadata": {
        "id": "jwgSOqF3qgU6"
      },
      "execution_count": 3,
      "outputs": []
    },
    {
      "cell_type": "code",
      "source": [
        "! chmod 600 ~/.kaggle/kaggle.json"
      ],
      "metadata": {
        "id": "gUrQN5_jqkrZ"
      },
      "execution_count": 4,
      "outputs": []
    },
    {
      "cell_type": "code",
      "source": [
        "!kaggle competitions download -c plant-seedlings-classification"
      ],
      "metadata": {
        "colab": {
          "base_uri": "https://localhost:8080/"
        },
        "id": "cVbS41Ioqz_7",
        "outputId": "1e72020f-9fcd-46fd-9464-782236e353bb"
      },
      "execution_count": 5,
      "outputs": [
        {
          "output_type": "stream",
          "name": "stdout",
          "text": [
            "Downloading plant-seedlings-classification.zip to /content\n",
            " 99% 1.67G/1.69G [00:10<00:00, 239MB/s]\n",
            "100% 1.69G/1.69G [00:10<00:00, 171MB/s]\n"
          ]
        }
      ]
    },
    {
      "cell_type": "code",
      "source": [
        "! unzip /content/plant-seedlings-classification.zip"
      ],
      "metadata": {
        "id": "5DAnFk3sic8_"
      },
      "execution_count": null,
      "outputs": []
    },
    {
      "cell_type": "code",
      "source": [
        "from random import sample\n",
        "import torch\n",
        "import torch.nn as nn\n",
        "import torch.optim as optim\n",
        "import numpy as np \n",
        "import torchvision\n",
        "import torchvision.datasets as datasets\n",
        "import torchvision.models as models\n",
        "import torchvision.transforms as transforms\n",
        "from torch.utils.data import DataLoader\n",
        "import os \n",
        "import glob\n",
        "import matplotlib.pyplot as plt\n",
        "from PIL import Image\n",
        "import pandas as pd\n",
        "import shutil\n",
        "import warnings\n",
        "import statistics\n",
        "\n",
        "\n",
        "\n",
        "\n",
        "warnings.filterwarnings('ignore')\n",
        "\n",
        "use_gpu = torch.cuda.is_available()\n",
        "np.random.seed(1234)"
      ],
      "metadata": {
        "id": "pCN2Ce1Ltimy"
      },
      "execution_count": 7,
      "outputs": []
    },
    {
      "cell_type": "code",
      "source": [
        "\n",
        "train_dir='train'\n",
        "sz = 224\n",
        "batch_size = 32\n",
        "os.listdir(train_dir)\n",
        "!ls\n",
        "# trn_fnames = glob.glob(f'/*/*.png')\n",
        "# trn_fnames[:5]"
      ],
      "metadata": {
        "id": "XW_oIqqhtot5",
        "colab": {
          "base_uri": "https://localhost:8080/"
        },
        "outputId": "86bea87f-021a-47af-f7f8-2740794b8925"
      },
      "execution_count": 8,
      "outputs": [
        {
          "output_type": "stream",
          "name": "stdout",
          "text": [
            "kaggle.json\t\t\t    sample_data\t\t   test\n",
            "plant-seedlings-classification.zip  sample_submission.csv  train\n"
          ]
        }
      ]
    },
    {
      "cell_type": "code",
      "source": [
        "if not os.path.exists(\"valid\"):\n",
        "  valid=\"valid\"\n",
        "  os.mkdir(valid)\n",
        "  array=(os.listdir(train_dir))\n",
        "  for name in array:\n",
        "    os.makedirs(os.path.join('valid',name))\n",
        "  valid_dataset_size=.25\n",
        "for species in os.listdir(train_dir):\n",
        "  len_species=len(os.listdir(os.path.join(train_dir,species)))\n",
        "  number_of_valid=round(valid_dataset_size*len_species)\n",
        "  valid_data_per_species=sample(os.listdir(os.path.join(train_dir,species)), k=number_of_valid)\n",
        "  for pic in valid_data_per_species:\n",
        "    src=os.path.join(train_dir,species,pic)\n",
        "    destination=os.path.join(valid,species)\n",
        "    shutil.move(src,destination)\n",
        "else:\n",
        "  print(\"validation dataset is already exist!\")\n",
        "# random.choices(list, k=3)\n",
        "\n",
        "\n",
        "valid_dir='valid'"
      ],
      "metadata": {
        "id": "mFrSIsGjMEl-",
        "colab": {
          "base_uri": "https://localhost:8080/"
        },
        "outputId": "e99e55ec-7037-4e1c-c7ff-fc5571af94ec"
      },
      "execution_count": 9,
      "outputs": [
        {
          "output_type": "stream",
          "name": "stdout",
          "text": [
            "validation dataset is already exist!\n"
          ]
        }
      ]
    },
    {
      "cell_type": "code",
      "source": [
        ""
      ],
      "metadata": {
        "id": "V_97KVvlOcVX"
      },
      "execution_count": null,
      "outputs": []
    },
    {
      "cell_type": "code",
      "source": [
        "tfms = transforms.Compose([\n",
        "    transforms.Resize((sz, sz)),  # PIL Image\n",
        "    transforms.ToTensor(),        # Tensor\n",
        "    transforms.Normalize([0.485, 0.456, 0.406], [0.229, 0.224, 0.225])\n",
        "])\n",
        "\n"
      ],
      "metadata": {
        "id": "2XRpWyPYw4lo"
      },
      "execution_count": 10,
      "outputs": []
    },
    {
      "cell_type": "code",
      "source": [
        "train_ds = datasets.ImageFolder(train_dir,tfms)\n",
        "valid_ds = datasets.ImageFolder(valid_dir,tfms)\n",
        "\n"
      ],
      "metadata": {
        "id": "fq--RxONvAIa"
      },
      "execution_count": 11,
      "outputs": []
    },
    {
      "cell_type": "code",
      "source": [
        "train_dl = torch.utils.data.DataLoader(train_ds, \n",
        "                                       batch_size=batch_size, \n",
        "                                       shuffle=True, \n",
        "                                       num_workers=8)\n",
        "val_dl = torch.utils.data.DataLoader(valid_ds, \n",
        "                                       batch_size=batch_size, \n",
        "                                       shuffle=True, \n",
        "                                       num_workers=8)\n"
      ],
      "metadata": {
        "id": "u_zZc3NzxNTx"
      },
      "execution_count": 12,
      "outputs": []
    },
    {
      "cell_type": "code",
      "source": [
        "class SimpleCNN(nn.Module):\n",
        "    \n",
        "    def __init__(self):\n",
        "        super(SimpleCNN, self).__init__()\n",
        "        \n",
        "        self.conv1 = nn.Sequential(\n",
        "            nn.Conv2d(3, 16, kernel_size=5, padding=2),\n",
        "            nn.BatchNorm2d(16),\n",
        "            nn.ReLU(),\n",
        "            nn.MaxPool2d(2))\n",
        "\n",
        "    \n",
        "        \n",
        "        self.conv2 = nn.Sequential(\n",
        "            nn.Conv2d(16, 32, kernel_size=5, padding=2),\n",
        "            nn.BatchNorm2d(32),\n",
        "            nn.ReLU(),\n",
        "            nn.MaxPool2d(2)\n",
        "        )\n",
        "\n",
        "        self.fc = nn.Linear(56 * 56 * 32,12)\n",
        "        \n",
        "    def forward(self, x):\n",
        "        out = self.conv1(x)\n",
        "        out = self.conv2(out)            # (bs, C, H,  W)\n",
        "        out = out.view(out.size(0), -1)  # (bs, C * H * W)\n",
        "        out = self.fc(out)\n",
        "        return out"
      ],
      "metadata": {
        "id": "Zq-9c7K2vf90"
      },
      "execution_count": 13,
      "outputs": []
    },
    {
      "cell_type": "code",
      "source": [
        "model=SimpleCNN()\n",
        "Loss = nn.CrossEntropyLoss()\n",
        "optimizer = optim.SGD(model.parameters(), lr=0.002, momentum=0.9)"
      ],
      "metadata": {
        "id": "EYIwqzo6votJ"
      },
      "execution_count": 14,
      "outputs": []
    },
    {
      "cell_type": "code",
      "source": [
        "device = torch.device('cuda' if torch.cuda.is_available() else 'cpu')\n",
        "\n",
        "model = model.to(device)"
      ],
      "metadata": {
        "id": "9ZHRh1UGwT8Z"
      },
      "execution_count": 15,
      "outputs": []
    },
    {
      "cell_type": "code",
      "source": [
        "num_epochs = 10\n",
        "losses = []\n",
        "for epoch in range(num_epochs):\n",
        "    for i, (inputs, targets) in enumerate(train_dl):\n",
        "        inputs = inputs.to(device)\n",
        "        targets = targets.to(device)\n",
        "        \n",
        "        # forwad pass\n",
        "        outputs = model(inputs)\n",
        "        \n",
        "        # loss\n",
        "        loss = Loss(outputs, targets)\n",
        "        losses.append(loss.item())\n",
        "\n",
        "        # backward pass\n",
        "        optimizer.zero_grad()\n",
        "        loss.backward()\n",
        "        \n",
        "        # update parameters\n",
        "        optimizer.step()\n",
        "        \n",
        "        # report\n",
        "        if (i + 1) % 100 == 0:\n",
        "            print('Epoch [%2d/%2d], Step [%3d/%3d], Loss: %.4f'\n",
        "                  % (epoch + 1, num_epochs, i + 1, len(train_ds) // batch_size, loss.item()))"
      ],
      "metadata": {
        "id": "00OVScS6v4ox",
        "colab": {
          "base_uri": "https://localhost:8080/"
        },
        "outputId": "e431ddec-f268-41d8-cf94-031207269b09"
      },
      "execution_count": 16,
      "outputs": [
        {
          "output_type": "stream",
          "name": "stdout",
          "text": [
            "Epoch [ 1/10], Step [100/111], Loss: 1.5570\n",
            "Epoch [ 2/10], Step [100/111], Loss: 1.1131\n",
            "Epoch [ 3/10], Step [100/111], Loss: 0.9589\n",
            "Epoch [ 4/10], Step [100/111], Loss: 0.7067\n",
            "Epoch [ 5/10], Step [100/111], Loss: 1.1449\n",
            "Epoch [ 6/10], Step [100/111], Loss: 0.4004\n",
            "Epoch [ 7/10], Step [100/111], Loss: 0.3231\n",
            "Epoch [ 8/10], Step [100/111], Loss: 0.0954\n",
            "Epoch [ 9/10], Step [100/111], Loss: 0.1294\n",
            "Epoch [10/10], Step [100/111], Loss: 0.0153\n"
          ]
        }
      ]
    },
    {
      "cell_type": "code",
      "source": [
        ""
      ],
      "metadata": {
        "id": "duRPPiG0oAbA"
      },
      "execution_count": null,
      "outputs": []
    },
    {
      "cell_type": "code",
      "source": [
        "\n",
        "def evaluate_model(model, dataloader, device):\n",
        "    model.eval()  # for batch normalization layers\n",
        "    corrects = 0\n",
        "    loss=[]\n",
        "    \n",
        "    with torch.no_grad():\n",
        "        for i,(inputs, targets) in enumerate(dataloader):\n",
        "            inputs, targets = inputs.to(device), targets.to(device)\n",
        "            outputs = model(inputs)\n",
        "            loss.append(Loss(outputs, targets).item())\n",
        "\n",
        "            _, preds = torch.max(outputs, 1)\n",
        "            corrects += (preds == targets.data).sum()\n",
        "    acc=100. * corrects / len(dataloader.dataset)\n",
        "    print(\"loss is {} , acc is {} \".format(statistics.mean(loss),acc))"
      ],
      "metadata": {
        "id": "HslQX6kx9upU"
      },
      "execution_count": 20,
      "outputs": []
    },
    {
      "cell_type": "code",
      "source": [
        "\n",
        "evaluate_model(model, val_dl, device)\n",
        "\n"
      ],
      "metadata": {
        "id": "WkeWbmhG9_JU"
      },
      "execution_count": null,
      "outputs": []
    },
    {
      "cell_type": "code",
      "source": [
        ""
      ],
      "metadata": {
        "id": "RuR6hunVbuvt"
      },
      "execution_count": 21,
      "outputs": []
    },
    {
      "cell_type": "code",
      "source": [
        "train_transforms = transforms.Compose([\n",
        "    transforms.Resize((sz, sz)),\n",
        "    transforms.RandomHorizontalFlip(),\n",
        "    transforms.ColorJitter(0.1, 0.1, 0.1, 0.01),\n",
        "    transforms.RandomRotation(20),\n",
        "    transforms.ToTensor(),\n",
        "    transforms.Normalize([0.485, 0.456, 0.406], [0.229, 0.224, 0.225])\n",
        "])\n",
        "\n",
        "\n",
        "valid_transforms = transforms.Compose([\n",
        "    transforms.Resize((sz, sz)),\n",
        "    transforms.ToTensor(),\n",
        "    transforms.Normalize([0.485, 0.456, 0.406], [0.229, 0.224, 0.225])\n",
        "])\n",
        "\n",
        "\n"
      ],
      "metadata": {
        "id": "U6eYEAVrsthh"
      },
      "execution_count": 31,
      "outputs": []
    },
    {
      "cell_type": "code",
      "source": [
        "train_ds = datasets.ImageFolder(train_dir,train_transforms)\n",
        "valid_ds = datasets.ImageFolder(valid_dir,valid_transforms)\n",
        "train_dl = torch.utils.data.DataLoader(train_ds, \n",
        "                                       batch_size=batch_size, \n",
        "                                       shuffle=True, \n",
        "                                       num_workers=8)\n",
        "val_dl = torch.utils.data.DataLoader(valid_ds, batch_size=batch_size, shuffle=True)"
      ],
      "metadata": {
        "id": "xAT3Z2-Xz-kx"
      },
      "execution_count": 32,
      "outputs": []
    },
    {
      "cell_type": "code",
      "source": [
        "num_epochs = 10\n",
        "losses = []\n",
        "for epoch in range(num_epochs):\n",
        "    for i, (inputs, targets) in enumerate(train_dl):\n",
        "        inputs = inputs.to(device)\n",
        "        targets = targets.to(device)\n",
        "        \n",
        "        # forwad pass\n",
        "        outputs = model(inputs)\n",
        "        \n",
        "        # loss\n",
        "        loss = Loss(outputs, targets)\n",
        "        losses.append(loss.item())\n",
        "\n",
        "        # backward pass\n",
        "        optimizer.zero_grad()\n",
        "        loss.backward()\n",
        "        \n",
        "        # update parameters\n",
        "        optimizer.step()\n",
        "        \n",
        "        # report\n",
        "        if (i + 1) % 100 == 0:\n",
        "            print('Epoch [%2d/%2d], Step [%3d/%3d], Loss: %.4f'\n",
        "                  % (epoch + 1, num_epochs, i + 1, len(train_ds) // batch_size, loss.item()))"
      ],
      "metadata": {
        "colab": {
          "base_uri": "https://localhost:8080/"
        },
        "id": "pmOHo1IGhPlt",
        "outputId": "35db182e-2f0a-4f81-f621-ba21582cde33"
      },
      "execution_count": 33,
      "outputs": [
        {
          "output_type": "stream",
          "name": "stdout",
          "text": [
            "Epoch [ 1/10], Step [100/111], Loss: 0.7933\n",
            "Epoch [ 2/10], Step [100/111], Loss: 0.7770\n",
            "Epoch [ 3/10], Step [100/111], Loss: 0.6673\n",
            "Epoch [ 4/10], Step [100/111], Loss: 0.5982\n",
            "Epoch [ 5/10], Step [100/111], Loss: 0.4300\n",
            "Epoch [ 6/10], Step [100/111], Loss: 0.8325\n",
            "Epoch [ 7/10], Step [100/111], Loss: 0.6383\n",
            "Epoch [ 8/10], Step [100/111], Loss: 0.3123\n",
            "Epoch [ 9/10], Step [100/111], Loss: 0.6842\n",
            "Epoch [10/10], Step [100/111], Loss: 0.6201\n"
          ]
        }
      ]
    },
    {
      "cell_type": "code",
      "source": [
        "evaluate_model(model, val_dl, device)"
      ],
      "metadata": {
        "colab": {
          "base_uri": "https://localhost:8080/"
        },
        "id": "0ejylW4EhX6f",
        "outputId": "16c84d61-b9c4-4a62-f3b3-13d0acc1b1af"
      },
      "execution_count": 35,
      "outputs": [
        {
          "output_type": "stream",
          "name": "stdout",
          "text": [
            "loss is 0.6707617079741076 , acc is 78.04878234863281 \n"
          ]
        }
      ]
    },
    {
      "cell_type": "code",
      "source": [
        "model = models.vgg16(pretrained=True)\n",
        "model.classifier._modules['6'] = nn.Linear(4096, 12)\n",
        "Loss = nn.CrossEntropyLoss()\n",
        "optimizer = optim.SGD(model.parameters(), lr=0.002, momentum=0.9)\n",
        "model = model.to(device)\n",
        "\n",
        "\n"
      ],
      "metadata": {
        "id": "HwkP4If7wx1u",
        "colab": {
          "base_uri": "https://localhost:8080/",
          "height": 66,
          "referenced_widgets": [
            "0a25625ed9904c92ab2693a7ea45adba",
            "711301e8446c41f58f65c8a66cfe28e9",
            "0cb9629cd88f431c9352a990adb12674",
            "a1569791072f4c4287396a03e2931be6",
            "d6e671af74da44e3acbaf5dc784f440e",
            "d6fff48c7ef94ffcbc41af875f5a926c",
            "43d105b3f0ad422b89840f1344d4fff1",
            "0df77ac494fa4e40872aab2cbacf15cd",
            "28b69c7e4a0245fc919a62feb3b45724",
            "58596c2847a648658d8ec70f15d2f936",
            "228aacb8abf74b3fb11f369fbc88ef65"
          ]
        },
        "outputId": "e1fa3b92-cef8-4e63-90e9-c9fd0eae9409"
      },
      "execution_count": 36,
      "outputs": [
        {
          "output_type": "stream",
          "name": "stderr",
          "text": [
            "Downloading: \"https://download.pytorch.org/models/vgg16-397923af.pth\" to /root/.cache/torch/hub/checkpoints/vgg16-397923af.pth\n"
          ]
        },
        {
          "output_type": "display_data",
          "data": {
            "text/plain": [
              "  0%|          | 0.00/528M [00:00<?, ?B/s]"
            ],
            "application/vnd.jupyter.widget-view+json": {
              "version_major": 2,
              "version_minor": 0,
              "model_id": "0a25625ed9904c92ab2693a7ea45adba"
            }
          },
          "metadata": {}
        }
      ]
    },
    {
      "cell_type": "code",
      "source": [
        "train_ds = datasets.ImageFolder(train_dir,tfms)\n",
        "valid_ds = datasets.ImageFolder(valid_dir,tfms)\n",
        "train_dl = torch.utils.data.DataLoader(train_ds, \n",
        "                                       batch_size=batch_size, \n",
        "                                       shuffle=True, \n",
        "                                       num_workers=8)\n",
        "val_dl = torch.utils.data.DataLoader(valid_ds, batch_size=batch_size, shuffle=True)\n",
        "\n",
        "\n",
        "\n"
      ],
      "metadata": {
        "id": "KZAp0IYchBCm"
      },
      "execution_count": 37,
      "outputs": []
    },
    {
      "cell_type": "code",
      "source": [
        "num_epochs = 3\n",
        "losses = []\n",
        "for epoch in range(num_epochs):\n",
        "    for i, (inputs, targets) in enumerate(train_dl):\n",
        "        inputs = inputs.to(device)\n",
        "        targets = targets.to(device)\n",
        "        \n",
        "        # forwad pass\n",
        "        outputs = model(inputs)\n",
        "        \n",
        "        # loss\n",
        "        loss = Loss(outputs, targets)\n",
        "        losses.append(loss.item())\n",
        "\n",
        "        # backward pass\n",
        "        optimizer.zero_grad()\n",
        "        loss.backward()\n",
        "        \n",
        "        # update parameters\n",
        "        optimizer.step()\n",
        "        \n",
        "        # report\n",
        "        if (i + 1) % 100 == 0:\n",
        "            print('Epoch [%2d/%2d], Step [%3d/%3d], Loss: %.4f'\n",
        "                  % (epoch + 1, num_epochs, i + 1, len(train_ds) // batch_size, loss.item()))"
      ],
      "metadata": {
        "colab": {
          "base_uri": "https://localhost:8080/"
        },
        "id": "fGvHHOvUuxg2",
        "outputId": "a06c977c-e491-45da-fc27-f66523636a1b"
      },
      "execution_count": 38,
      "outputs": [
        {
          "output_type": "stream",
          "name": "stdout",
          "text": [
            "Epoch [ 1/ 3], Step [100/111], Loss: 0.5275\n",
            "Epoch [ 2/ 3], Step [100/111], Loss: 0.2523\n",
            "Epoch [ 3/ 3], Step [100/111], Loss: 0.0981\n"
          ]
        }
      ]
    },
    {
      "cell_type": "code",
      "source": [
        "evaluate_model(model, val_dl, device)"
      ],
      "metadata": {
        "colab": {
          "base_uri": "https://localhost:8080/"
        },
        "id": "HToC5djBsZRa",
        "outputId": "2fb149ae-70d3-4a6e-8cab-39fc3891b54b"
      },
      "execution_count": 39,
      "outputs": [
        {
          "output_type": "stream",
          "name": "stdout",
          "text": [
            "loss is 0.24211767686708635 , acc is 91.58956909179688 \n"
          ]
        }
      ]
    }
  ]
}